{
  "nbformat": 4,
  "nbformat_minor": 0,
  "metadata": {
    "colab": {
      "name": "Optimization Homework 1",
      "provenance": [],
      "authorship_tag": "ABX9TyMTfgdj/Ttr/0zEqP13K13E",
      "include_colab_link": true
    },
    "kernelspec": {
      "name": "python3",
      "display_name": "Python 3"
    }
  },
  "cells": [
    {
      "cell_type": "markdown",
      "metadata": {
        "id": "view-in-github",
        "colab_type": "text"
      },
      "source": [
        "<a href=\"https://colab.research.google.com/github/vvviet2908/Optimization/blob/main/Optimization_Homework_1.ipynb\" target=\"_parent\"><img src=\"https://colab.research.google.com/assets/colab-badge.svg\" alt=\"Open In Colab\"/></a>"
      ]
    },
    {
      "cell_type": "code",
      "metadata": {
        "id": "ASwAQAx6OsZJ"
      },
      "source": [
        "import numpy as np\r\n",
        "import cvxpy as cp"
      ],
      "execution_count": null,
      "outputs": []
    },
    {
      "cell_type": "markdown",
      "metadata": {
        "id": "dlixuNM_8EyM"
      },
      "source": [
        "## **Diet Problem**"
      ]
    },
    {
      "cell_type": "code",
      "metadata": {
        "id": "0MCZnuHfPDLI"
      },
      "source": [
        "# Create scalar optimization variables.\r\n",
        "x = cp.Variable((4,1))"
      ],
      "execution_count": null,
      "outputs": []
    },
    {
      "cell_type": "code",
      "metadata": {
        "id": "TqDg8Bf6Qg7P"
      },
      "source": [
        "# Input the data to arrays\r\n",
        "carb = np.array([50,40,40,40])\r\n",
        "prot = np.array([3,1,2,5])\r\n",
        "cost= np.array([[5,2,1,10]])"
      ],
      "execution_count": null,
      "outputs": []
    },
    {
      "cell_type": "code",
      "metadata": {
        "id": "yUD0ht51Q1QG"
      },
      "source": [
        "# Create three constraints.\r\n",
        "constraints = [carb@x >= 200, prot@x >= 20, x >=0]"
      ],
      "execution_count": null,
      "outputs": []
    },
    {
      "cell_type": "code",
      "metadata": {
        "colab": {
          "base_uri": "https://localhost:8080/"
        },
        "id": "ERcP1GYNREJf",
        "outputId": "e6f4f6d3-0d82-4348-96be-443b34b9d5ac"
      },
      "source": [
        "# Form and solve problem.\r\n",
        "prob = cp.Problem(cp.Minimize(cost@x),constraints)\r\n",
        "prob.solve()\r\n",
        "print(\"status:\", prob.status)\r\n",
        "print(\"optimal value\", prob.value)\r\n",
        "print(\"optimal var \\n\", x.value)"
      ],
      "execution_count": null,
      "outputs": [
        {
          "output_type": "stream",
          "text": [
            "status: optimal\n",
            "optimal value 10.000000005189014\n",
            "optimal var \n",
            " [[-7.21408499e-12]\n",
            " [ 2.66300022e-09]\n",
            " [ 1.00000000e+01]\n",
            " [-1.46826753e-10]]\n"
          ],
          "name": "stdout"
        }
      ]
    },
    {
      "cell_type": "markdown",
      "metadata": {
        "id": "zh4UVnFG_UY6"
      },
      "source": [
        "# **House price estimate problem**\r\n",
        "* **Minimize the sum of error:** norm 2: min||Ax-b||^2"
      ]
    },
    {
      "cell_type": "code",
      "metadata": {
        "id": "DqPe_H_bYK1B"
      },
      "source": [
        "# Create scalar optimization variables.\r\n",
        "x=cp.Variable(2).T"
      ],
      "execution_count": null,
      "outputs": []
    },
    {
      "cell_type": "code",
      "metadata": {
        "id": "OXEzVVsmXN36"
      },
      "source": [
        "#Input data\r\n",
        "A=np.array([[1000,500,100,150],[10,1,2,3]])\r\n",
        "b=np.array([100,100,3,10])"
      ],
      "execution_count": null,
      "outputs": []
    },
    {
      "cell_type": "code",
      "metadata": {
        "id": "txhSuKmjYRw0"
      },
      "source": [
        "#Error\r\n",
        "e= A.T@x-b"
      ],
      "execution_count": null,
      "outputs": []
    },
    {
      "cell_type": "code",
      "metadata": {
        "id": "EFk3wI1yYWiZ"
      },
      "source": [
        "#Sum of the error\r\n",
        "se = cp.norm(e,2)"
      ],
      "execution_count": null,
      "outputs": []
    },
    {
      "cell_type": "code",
      "metadata": {
        "colab": {
          "base_uri": "https://localhost:8080/"
        },
        "id": "WBOdNUQAZioX",
        "outputId": "162f772c-2621-473c-e90c-786437f8cdb9"
      },
      "source": [
        "# Form and solve problem.\r\n",
        "prob = cp.Problem(cp.Minimize(se))\r\n",
        "prob.solve()\r\n",
        "print(\"status:\", prob.status)\r\n",
        "print(\"optimal value\", prob.value)\r\n",
        "print(\"optimal var:\") \r\n",
        "print(\"x1=\",x.value[0])\r\n",
        "print(\"x2=\",x.value[1])"
      ],
      "execution_count": null,
      "outputs": [
        {
          "output_type": "stream",
          "text": [
            "status: optimal\n",
            "optimal value 12.76160501943607\n",
            "optimal var:\n",
            "x1= 0.21198674738982917\n",
            "x2= -10.768879240208504\n"
          ],
          "name": "stdout"
        }
      ]
    },
    {
      "cell_type": "code",
      "metadata": {
        "colab": {
          "base_uri": "https://localhost:8080/"
        },
        "id": "PK1VUythOigA",
        "outputId": "1a6d7772-80b4-4bb1-93c4-651f63fc6f96"
      },
      "source": [
        "print(e.value)"
      ],
      "execution_count": null,
      "outputs": [
        {
          "output_type": "stream",
          "text": [
            "[  4.29795499  -4.77550555  -3.33908374 -10.50862561]\n"
          ],
          "name": "stdout"
        }
      ]
    },
    {
      "cell_type": "code",
      "metadata": {
        "id": "F_OL7nfxZnE5"
      },
      "source": [
        ""
      ],
      "execution_count": null,
      "outputs": []
    }
  ]
}